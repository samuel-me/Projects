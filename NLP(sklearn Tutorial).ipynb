{
 "cells": [
  {
   "cell_type": "markdown",
   "metadata": {},
   "source": [
    "## Project Summary \n",
    "* A classification Task on a newsgroup dataset\n",
    "\n",
    "[for more info](https://scikit-learn.org/stable/tutorial/text_analytics/working_with_text_data.html)\n",
    "\n"
   ]
  },
  {
   "cell_type": "code",
   "execution_count": 2,
   "metadata": {},
   "outputs": [],
   "source": [
    "## This might take a little while \n",
    "\n",
    "from sklearn.datasets import fetch_20newsgroups\n",
    "categories = ['alt.atheism', 'soc.religion.christian',\n",
    "               'comp.graphics', 'sci.med']\n",
    "\n",
    "twenty_train = fetch_20newsgroups(subset='train',\n",
    "     categories=categories, shuffle=True, random_state=42)"
   ]
  },
  {
   "cell_type": "code",
   "execution_count": 3,
   "metadata": {},
   "outputs": [
    {
     "data": {
      "text/plain": [
       "['alt.atheism', 'comp.graphics', 'sci.med', 'soc.religion.christian']"
      ]
     },
     "execution_count": 3,
     "metadata": {},
     "output_type": "execute_result"
    }
   ],
   "source": [
    "twenty_train.target_names"
   ]
  },
  {
   "cell_type": "code",
   "execution_count": 4,
   "metadata": {},
   "outputs": [
    {
     "data": {
      "text/plain": [
       "2257"
      ]
     },
     "execution_count": 4,
     "metadata": {},
     "output_type": "execute_result"
    }
   ],
   "source": [
    "len(twenty_train.data)"
   ]
  },
  {
   "cell_type": "code",
   "execution_count": 5,
   "metadata": {},
   "outputs": [
    {
     "data": {
      "text/plain": [
       "2257"
      ]
     },
     "execution_count": 5,
     "metadata": {},
     "output_type": "execute_result"
    }
   ],
   "source": [
    "len(twenty_train.filenames)"
   ]
  },
  {
   "cell_type": "code",
   "execution_count": 6,
   "metadata": {},
   "outputs": [
    {
     "data": {
      "text/plain": [
       "'From: sd345@city.ac.uk (Michael Collier)\\nSubject: Converting images to HP LaserJet III?\\nNntp-Posting-Host: hampton\\nOrganization: The City University\\nLines: 14\\n\\nDoes anyone know of a good way (standard PC application/PD utility) to\\nconvert tif/img/tga files into LaserJet III format.  We would also like to\\ndo the same, converting to HPGL (HP plotter) files.\\n\\nPlease email any response.\\n\\nIs this the correct group?\\n\\nThanks in advance.  Michael.\\n-- \\nMichael Collier (Programmer)                 The Computer Unit,\\nEmail: M.P.Collier@uk.ac.city                The City University,\\nTel: 071 477-8000 x3769                      London,\\nFax: 071 477-8565                            EC1V 0HB.\\n'"
      ]
     },
     "execution_count": 6,
     "metadata": {},
     "output_type": "execute_result"
    }
   ],
   "source": [
    "#lets try to make a data frame\n",
    "\n",
    "example = twenty_train.data[0]\n",
    "example"
   ]
  },
  {
   "cell_type": "code",
   "execution_count": 7,
   "metadata": {},
   "outputs": [
    {
     "data": {
      "text/plain": [
       "['From: sd345@city.ac.uk (Michael Collier)',\n",
       " 'Subject: Converting images to HP LaserJet III?',\n",
       " 'Nntp-Posting-Host: hampton',\n",
       " 'Organization: The City University',\n",
       " 'Lines: 14',\n",
       " '',\n",
       " 'Does anyone know of a good way (standard PC application/PD utility) to',\n",
       " 'convert tif/img/tga files into LaserJet III format.  We would also like to',\n",
       " 'do the same, converting to HPGL (HP plotter) files.',\n",
       " '',\n",
       " 'Please email any response.',\n",
       " '',\n",
       " 'Is this the correct group?',\n",
       " '',\n",
       " 'Thanks in advance.  Michael.',\n",
       " '-- ',\n",
       " 'Michael Collier (Programmer)                 The Computer Unit,',\n",
       " 'Email: M.P.Collier@uk.ac.city                The City University,',\n",
       " 'Tel: 071 477-8000 x3769                      London,',\n",
       " 'Fax: 071 477-8565                            EC1V 0HB.',\n",
       " '']"
      ]
     },
     "execution_count": 7,
     "metadata": {},
     "output_type": "execute_result"
    }
   ],
   "source": [
    "example.split('\\n')"
   ]
  },
  {
   "cell_type": "code",
   "execution_count": 8,
   "metadata": {},
   "outputs": [
    {
     "data": {
      "text/plain": [
       "'comp.graphics'"
      ]
     },
     "execution_count": 8,
     "metadata": {},
     "output_type": "execute_result"
    }
   ],
   "source": [
    "twenty_train.target_names[1]"
   ]
  },
  {
   "cell_type": "code",
   "execution_count": 9,
   "metadata": {},
   "outputs": [
    {
     "data": {
      "text/plain": [
       "1"
      ]
     },
     "execution_count": 9,
     "metadata": {},
     "output_type": "execute_result"
    }
   ],
   "source": [
    "twenty_train.target[0]"
   ]
  },
  {
   "cell_type": "code",
   "execution_count": 10,
   "metadata": {},
   "outputs": [],
   "source": [
    "import pandas as pd"
   ]
  },
  {
   "cell_type": "code",
   "execution_count": 23,
   "metadata": {},
   "outputs": [],
   "source": [
    "df = pd.DataFrame(columns=['Text','Label'])"
   ]
  },
  {
   "cell_type": "code",
   "execution_count": 24,
   "metadata": {},
   "outputs": [],
   "source": [
    "df['Text'] = twenty_train.data\n",
    "df['class']=twenty_train.target"
   ]
  },
  {
   "cell_type": "code",
   "execution_count": 13,
   "metadata": {},
   "outputs": [],
   "source": [
    "import numpy as np"
   ]
  },
  {
   "cell_type": "code",
   "execution_count": 14,
   "metadata": {},
   "outputs": [
    {
     "data": {
      "text/plain": [
       "array([1, 1, 3, ..., 2, 2, 2], dtype=int64)"
      ]
     },
     "execution_count": 14,
     "metadata": {},
     "output_type": "execute_result"
    }
   ],
   "source": [
    "twenty_train.target"
   ]
  },
  {
   "cell_type": "code",
   "execution_count": null,
   "metadata": {},
   "outputs": [],
   "source": []
  },
  {
   "cell_type": "code",
   "execution_count": 25,
   "metadata": {},
   "outputs": [
    {
     "data": {
      "text/html": [
       "<div>\n",
       "<style scoped>\n",
       "    .dataframe tbody tr th:only-of-type {\n",
       "        vertical-align: middle;\n",
       "    }\n",
       "\n",
       "    .dataframe tbody tr th {\n",
       "        vertical-align: top;\n",
       "    }\n",
       "\n",
       "    .dataframe thead th {\n",
       "        text-align: right;\n",
       "    }\n",
       "</style>\n",
       "<table border=\"1\" class=\"dataframe\">\n",
       "  <thead>\n",
       "    <tr style=\"text-align: right;\">\n",
       "      <th></th>\n",
       "      <th>Text</th>\n",
       "      <th>Label</th>\n",
       "      <th>class</th>\n",
       "    </tr>\n",
       "  </thead>\n",
       "  <tbody>\n",
       "    <tr>\n",
       "      <th>0</th>\n",
       "      <td>From: sd345@city.ac.uk (Michael Collier)\\nSubj...</td>\n",
       "      <td>NaN</td>\n",
       "      <td>1</td>\n",
       "    </tr>\n",
       "    <tr>\n",
       "      <th>1</th>\n",
       "      <td>From: ani@ms.uky.edu (Aniruddha B. Deglurkar)\\...</td>\n",
       "      <td>NaN</td>\n",
       "      <td>1</td>\n",
       "    </tr>\n",
       "    <tr>\n",
       "      <th>2</th>\n",
       "      <td>From: djohnson@cs.ucsd.edu (Darin Johnson)\\nSu...</td>\n",
       "      <td>NaN</td>\n",
       "      <td>3</td>\n",
       "    </tr>\n",
       "    <tr>\n",
       "      <th>3</th>\n",
       "      <td>From: s0612596@let.rug.nl (M.M. Zwart)\\nSubjec...</td>\n",
       "      <td>NaN</td>\n",
       "      <td>3</td>\n",
       "    </tr>\n",
       "    <tr>\n",
       "      <th>4</th>\n",
       "      <td>From: stanly@grok11.columbiasc.ncr.com (stanly...</td>\n",
       "      <td>NaN</td>\n",
       "      <td>3</td>\n",
       "    </tr>\n",
       "  </tbody>\n",
       "</table>\n",
       "</div>"
      ],
      "text/plain": [
       "                                                Text Label  class\n",
       "0  From: sd345@city.ac.uk (Michael Collier)\\nSubj...   NaN      1\n",
       "1  From: ani@ms.uky.edu (Aniruddha B. Deglurkar)\\...   NaN      1\n",
       "2  From: djohnson@cs.ucsd.edu (Darin Johnson)\\nSu...   NaN      3\n",
       "3  From: s0612596@let.rug.nl (M.M. Zwart)\\nSubjec...   NaN      3\n",
       "4  From: stanly@grok11.columbiasc.ncr.com (stanly...   NaN      3"
      ]
     },
     "execution_count": 25,
     "metadata": {},
     "output_type": "execute_result"
    }
   ],
   "source": [
    "df.head()"
   ]
  },
  {
   "cell_type": "code",
   "execution_count": 16,
   "metadata": {},
   "outputs": [],
   "source": [
    "def label(a):\n",
    "    return twenty_train.target_names[a]"
   ]
  },
  {
   "cell_type": "code",
   "execution_count": 26,
   "metadata": {},
   "outputs": [],
   "source": [
    "df.Label = df['class'].apply(label)"
   ]
  },
  {
   "cell_type": "code",
   "execution_count": 27,
   "metadata": {},
   "outputs": [
    {
     "data": {
      "text/html": [
       "<div>\n",
       "<style scoped>\n",
       "    .dataframe tbody tr th:only-of-type {\n",
       "        vertical-align: middle;\n",
       "    }\n",
       "\n",
       "    .dataframe tbody tr th {\n",
       "        vertical-align: top;\n",
       "    }\n",
       "\n",
       "    .dataframe thead th {\n",
       "        text-align: right;\n",
       "    }\n",
       "</style>\n",
       "<table border=\"1\" class=\"dataframe\">\n",
       "  <thead>\n",
       "    <tr style=\"text-align: right;\">\n",
       "      <th></th>\n",
       "      <th>Text</th>\n",
       "      <th>Label</th>\n",
       "      <th>class</th>\n",
       "    </tr>\n",
       "  </thead>\n",
       "  <tbody>\n",
       "    <tr>\n",
       "      <th>0</th>\n",
       "      <td>From: sd345@city.ac.uk (Michael Collier)\\nSubj...</td>\n",
       "      <td>comp.graphics</td>\n",
       "      <td>1</td>\n",
       "    </tr>\n",
       "    <tr>\n",
       "      <th>1</th>\n",
       "      <td>From: ani@ms.uky.edu (Aniruddha B. Deglurkar)\\...</td>\n",
       "      <td>comp.graphics</td>\n",
       "      <td>1</td>\n",
       "    </tr>\n",
       "    <tr>\n",
       "      <th>2</th>\n",
       "      <td>From: djohnson@cs.ucsd.edu (Darin Johnson)\\nSu...</td>\n",
       "      <td>soc.religion.christian</td>\n",
       "      <td>3</td>\n",
       "    </tr>\n",
       "    <tr>\n",
       "      <th>3</th>\n",
       "      <td>From: s0612596@let.rug.nl (M.M. Zwart)\\nSubjec...</td>\n",
       "      <td>soc.religion.christian</td>\n",
       "      <td>3</td>\n",
       "    </tr>\n",
       "    <tr>\n",
       "      <th>4</th>\n",
       "      <td>From: stanly@grok11.columbiasc.ncr.com (stanly...</td>\n",
       "      <td>soc.religion.christian</td>\n",
       "      <td>3</td>\n",
       "    </tr>\n",
       "  </tbody>\n",
       "</table>\n",
       "</div>"
      ],
      "text/plain": [
       "                                                Text                   Label  \\\n",
       "0  From: sd345@city.ac.uk (Michael Collier)\\nSubj...           comp.graphics   \n",
       "1  From: ani@ms.uky.edu (Aniruddha B. Deglurkar)\\...           comp.graphics   \n",
       "2  From: djohnson@cs.ucsd.edu (Darin Johnson)\\nSu...  soc.religion.christian   \n",
       "3  From: s0612596@let.rug.nl (M.M. Zwart)\\nSubjec...  soc.religion.christian   \n",
       "4  From: stanly@grok11.columbiasc.ncr.com (stanly...  soc.religion.christian   \n",
       "\n",
       "   class  \n",
       "0      1  \n",
       "1      1  \n",
       "2      3  \n",
       "3      3  \n",
       "4      3  "
      ]
     },
     "execution_count": 27,
     "metadata": {},
     "output_type": "execute_result"
    }
   ],
   "source": [
    "df.head()"
   ]
  },
  {
   "cell_type": "code",
   "execution_count": 84,
   "metadata": {},
   "outputs": [
    {
     "data": {
      "text/plain": [
       "['From: aldridge@netcom.com (Jacquelin Aldridge)',\n",
       " 'Subject: Re: Teenage acne',\n",
       " 'Organization: NETCOM On-line Communication Services (408 241-9760 guest)',\n",
       " 'Lines: 57',\n",
       " '',\n",
       " 'pchurch@swell.actrix.gen.nz (Pat Churchill) writes:',\n",
       " '',\n",
       " '',\n",
       " '>My 14-y-o son has the usual teenage spotty chin and greasy nose.  I',\n",
       " '>bought him Clearasil face wash and ointment.  I think that is probably',\n",
       " '>enough, along with the usual good diet.  However, he is on at me to',\n",
       " '>get some product called Dalacin T, which used to be a',\n",
       " \">doctor's-prescription only treatment but is not available over the\",\n",
       " \">chemist's counter.  I have asked a couple of pharmacists who say\",\n",
       " '>either his acne is not severe enough for Dalacin T, or that Clearasil',\n",
       " '>is OK.  I had the odd spots as a teenager, nothing serious.  His',\n",
       " \">father was the same, so I don't figure his acne is going to escalate\",\n",
       " '>into something disfiguring.  But I know kids are senstitive about',\n",
       " \">their appearance.  I am wary because a neighbour's son had this wierd\",\n",
       " '>malady that was eventually put down to an overdose of vitamin A from',\n",
       " '>acne treatment.  I want to help - but with appropriate treatment.',\n",
       " '',\n",
       " '>My son also has some scaliness around the hairline on his scalp.  Sort',\n",
       " '>of teenage cradle cap.  Any pointers/advice on this?  We have tried a',\n",
       " '>couple of anti dandruff shampoos and some of these are inclined to',\n",
       " '>make the condition worse, not better.',\n",
       " '',\n",
       " \">Shall I bury the kid till he's 21 :)\",\n",
       " '',\n",
       " ':) No...I was one of the lucky ones. Very little acne as a teenager. I',\n",
       " \"didn't have any luck with clearasil. Even though my skin gets oily it\",\n",
       " \"really only gets miserable pimples when it's dry. \",\n",
       " '',\n",
       " 'Frequent lukewarm water rinses on the face might help. Getting the scalp',\n",
       " 'thing under control might help (that could be as simple as submerging under',\n",
       " \"the bathwater till it's softened and washing it out). Taking a one a day\",\n",
       " \"vitamin/mineral might help. I've heard iodine causes trouble and that it  \",\n",
       " 'is used in fast food restaurants to sterilize equipment which might be',\n",
       " 'where the belief that greasy foods cause acne came from. I notice grease ',\n",
       " 'on my face, not immediately removed will cause acne (even from eating',\n",
       " 'meat).',\n",
       " '',\n",
       " 'Keeping hair rinse, mousse, dip, and spray off the face will help. Warm',\n",
       " 'water bath soaks or cloths on the face to soften the oil in the pores will',\n",
       " 'help prevent blackheads. Body oil is hydrophilic, loves water and it',\n",
       " \"softens and washes off when it has a chance. That's why hair goes limp with\",\n",
       " 'oilyness. ',\n",
       " '',\n",
       " 'Becoming convinced that the best thing to do with',\n",
       " 'a whitehead is leave it alone will save him days of pimple misery. Any',\n",
       " 'prying of black or whiteheads can cause infections, the red spots of',\n",
       " \"pimples. Usually a whitehead will break naturally in a day and there won't\",\n",
       " 'be an infection afterwards.',\n",
       " '',\n",
       " \"Tell him that it's normal to have some pimples but the cosmetic industry\",\n",
       " \"makes it's money off of selling people on the idea that they are an\",\n",
       " 'incredible defect to be hidden at any cost (even that of causing more pimples). ',\n",
       " '',\n",
       " '',\n",
       " '-Jackie-',\n",
       " '',\n",
       " '',\n",
       " '']"
      ]
     },
     "execution_count": 84,
     "metadata": {},
     "output_type": "execute_result"
    }
   ],
   "source": [
    "df['Text'].iloc[7].split('\\n')\n"
   ]
  },
  {
   "cell_type": "code",
   "execution_count": 80,
   "metadata": {},
   "outputs": [
    {
     "data": {
      "text/plain": [
       "'soc.religion.christian'"
      ]
     },
     "execution_count": 80,
     "metadata": {},
     "output_type": "execute_result"
    }
   ],
   "source": [
    "df['Label'].iloc[6]\n"
   ]
  },
  {
   "cell_type": "code",
   "execution_count": 97,
   "metadata": {},
   "outputs": [
    {
     "data": {
      "text/plain": [
       "Index(['Text', 'Label', 'class'], dtype='object')"
      ]
     },
     "execution_count": 97,
     "metadata": {},
     "output_type": "execute_result"
    }
   ],
   "source": [
    "df.columns"
   ]
  },
  {
   "cell_type": "code",
   "execution_count": 86,
   "metadata": {},
   "outputs": [],
   "source": [
    "from sklearn.model_selection import train_test_split"
   ]
  },
  {
   "cell_type": "code",
   "execution_count": 87,
   "metadata": {},
   "outputs": [],
   "source": [
    "X_train,X_test,y_train,y_test = train_test_split(df.Text,df.Label,test_size=0.33)"
   ]
  },
  {
   "cell_type": "code",
   "execution_count": 88,
   "metadata": {},
   "outputs": [],
   "source": [
    "from sklearn.pipeline import Pipeline"
   ]
  },
  {
   "cell_type": "code",
   "execution_count": 90,
   "metadata": {},
   "outputs": [],
   "source": [
    "from sklearn.feature_extraction.text import CountVectorizer,TfidfTransformer"
   ]
  },
  {
   "cell_type": "code",
   "execution_count": 107,
   "metadata": {},
   "outputs": [],
   "source": [
    "from sklearn.naive_bayes import MultinomialNB\n",
    "from sklearn.model_selection import GridSearchCV\n",
    "from sklearn.svm import SVC"
   ]
  },
  {
   "cell_type": "code",
   "execution_count": 109,
   "metadata": {},
   "outputs": [],
   "source": [
    "param_grid = {'C':[0.1,1,10,100,1000,10000],'gamma':[1,0.1,0.01,0.001,0.0001,0.00001]}"
   ]
  },
  {
   "cell_type": "code",
   "execution_count": 110,
   "metadata": {},
   "outputs": [],
   "source": [
    "# this might take a while\n",
    "\n",
    "pipe = Pipeline([('bag_of_word',CountVectorizer()),\n",
    "                 ('tfidf',TfidfTransformer()),\n",
    "                 ('classifier',GridSearchCV(SVC(),param_grid,verbose=3))\n",
    "                  ])"
   ]
  },
  {
   "cell_type": "code",
   "execution_count": 114,
   "metadata": {},
   "outputs": [
    {
     "name": "stdout",
     "output_type": "stream",
     "text": [
      "Fitting 5 folds for each of 36 candidates, totalling 180 fits\n",
      "[CV] C=0.1, gamma=1 ..................................................\n"
     ]
    },
    {
     "name": "stderr",
     "output_type": "stream",
     "text": [
      "[Parallel(n_jobs=1)]: Using backend SequentialBackend with 1 concurrent workers.\n"
     ]
    },
    {
     "name": "stdout",
     "output_type": "stream",
     "text": [
      "[CV] ...................... C=0.1, gamma=1, score=0.403, total=   5.9s\n",
      "[CV] C=0.1, gamma=1 ..................................................\n"
     ]
    },
    {
     "name": "stderr",
     "output_type": "stream",
     "text": [
      "[Parallel(n_jobs=1)]: Done   1 out of   1 | elapsed:    5.8s remaining:    0.0s\n"
     ]
    },
    {
     "name": "stdout",
     "output_type": "stream",
     "text": [
      "[CV] ...................... C=0.1, gamma=1, score=0.366, total=   5.4s\n",
      "[CV] C=0.1, gamma=1 ..................................................\n"
     ]
    },
    {
     "name": "stderr",
     "output_type": "stream",
     "text": [
      "[Parallel(n_jobs=1)]: Done   2 out of   2 | elapsed:   11.1s remaining:    0.0s\n"
     ]
    },
    {
     "name": "stdout",
     "output_type": "stream",
     "text": [
      "[CV] ...................... C=0.1, gamma=1, score=0.381, total=   5.3s\n",
      "[CV] C=0.1, gamma=1 ..................................................\n",
      "[CV] ...................... C=0.1, gamma=1, score=0.411, total=   6.1s\n",
      "[CV] C=0.1, gamma=1 ..................................................\n",
      "[CV] ...................... C=0.1, gamma=1, score=0.404, total=   6.6s\n",
      "[CV] C=0.1, gamma=0.1 ................................................\n",
      "[CV] .................... C=0.1, gamma=0.1, score=0.264, total=   6.0s\n",
      "[CV] C=0.1, gamma=0.1 ................................................\n",
      "[CV] .................... C=0.1, gamma=0.1, score=0.264, total=   6.3s\n",
      "[CV] C=0.1, gamma=0.1 ................................................\n",
      "[CV] .................... C=0.1, gamma=0.1, score=0.417, total=   5.8s\n",
      "[CV] C=0.1, gamma=0.1 ................................................\n",
      "[CV] .................... C=0.1, gamma=0.1, score=0.464, total=   5.8s\n",
      "[CV] C=0.1, gamma=0.1 ................................................\n",
      "[CV] .................... C=0.1, gamma=0.1, score=0.444, total=   6.3s\n",
      "[CV] C=0.1, gamma=0.01 ...............................................\n",
      "[CV] ................... C=0.1, gamma=0.01, score=0.264, total=   7.1s\n",
      "[CV] C=0.1, gamma=0.01 ...............................................\n",
      "[CV] ................... C=0.1, gamma=0.01, score=0.264, total=   6.6s\n",
      "[CV] C=0.1, gamma=0.01 ...............................................\n",
      "[CV] ................... C=0.1, gamma=0.01, score=0.424, total=   6.1s\n",
      "[CV] C=0.1, gamma=0.01 ...............................................\n",
      "[CV] ................... C=0.1, gamma=0.01, score=0.464, total=   5.7s\n",
      "[CV] C=0.1, gamma=0.01 ...............................................\n",
      "[CV] ................... C=0.1, gamma=0.01, score=0.447, total=   5.7s\n",
      "[CV] C=0.1, gamma=0.001 ..............................................\n",
      "[CV] .................. C=0.1, gamma=0.001, score=0.264, total=   5.7s\n",
      "[CV] C=0.1, gamma=0.001 ..............................................\n",
      "[CV] .................. C=0.1, gamma=0.001, score=0.264, total=   5.5s\n",
      "[CV] C=0.1, gamma=0.001 ..............................................\n",
      "[CV] .................. C=0.1, gamma=0.001, score=0.424, total=   5.4s\n",
      "[CV] C=0.1, gamma=0.001 ..............................................\n",
      "[CV] .................. C=0.1, gamma=0.001, score=0.464, total=   5.5s\n",
      "[CV] C=0.1, gamma=0.001 ..............................................\n",
      "[CV] .................. C=0.1, gamma=0.001, score=0.447, total=   5.7s\n",
      "[CV] C=0.1, gamma=0.0001 .............................................\n",
      "[CV] ................. C=0.1, gamma=0.0001, score=0.264, total=   5.7s\n",
      "[CV] C=0.1, gamma=0.0001 .............................................\n",
      "[CV] ................. C=0.1, gamma=0.0001, score=0.264, total=   5.8s\n",
      "[CV] C=0.1, gamma=0.0001 .............................................\n",
      "[CV] ................. C=0.1, gamma=0.0001, score=0.424, total=   6.6s\n",
      "[CV] C=0.1, gamma=0.0001 .............................................\n",
      "[CV] ................. C=0.1, gamma=0.0001, score=0.464, total=   5.4s\n",
      "[CV] C=0.1, gamma=0.0001 .............................................\n",
      "[CV] ................. C=0.1, gamma=0.0001, score=0.447, total=   5.6s\n",
      "[CV] C=0.1, gamma=1e-05 ..............................................\n",
      "[CV] .................. C=0.1, gamma=1e-05, score=0.264, total=   6.4s\n",
      "[CV] C=0.1, gamma=1e-05 ..............................................\n",
      "[CV] .................. C=0.1, gamma=1e-05, score=0.264, total=   7.4s\n",
      "[CV] C=0.1, gamma=1e-05 ..............................................\n",
      "[CV] .................. C=0.1, gamma=1e-05, score=0.424, total=   7.8s\n",
      "[CV] C=0.1, gamma=1e-05 ..............................................\n",
      "[CV] .................. C=0.1, gamma=1e-05, score=0.464, total=   5.6s\n",
      "[CV] C=0.1, gamma=1e-05 ..............................................\n",
      "[CV] .................. C=0.1, gamma=1e-05, score=0.447, total=   5.9s\n",
      "[CV] C=1, gamma=1 ....................................................\n",
      "[CV] ........................ C=1, gamma=1, score=0.941, total=   7.5s\n",
      "[CV] C=1, gamma=1 ....................................................\n",
      "[CV] ........................ C=1, gamma=1, score=0.941, total=   7.5s\n",
      "[CV] C=1, gamma=1 ....................................................\n",
      "[CV] ........................ C=1, gamma=1, score=0.940, total=   6.5s\n",
      "[CV] C=1, gamma=1 ....................................................\n",
      "[CV] ........................ C=1, gamma=1, score=0.911, total=   6.1s\n",
      "[CV] C=1, gamma=1 ....................................................\n",
      "[CV] ........................ C=1, gamma=1, score=0.907, total=   6.2s\n",
      "[CV] C=1, gamma=0.1 ..................................................\n",
      "[CV] ...................... C=1, gamma=0.1, score=0.818, total=   4.9s\n",
      "[CV] C=1, gamma=0.1 ..................................................\n",
      "[CV] ...................... C=1, gamma=0.1, score=0.842, total=   5.1s\n",
      "[CV] C=1, gamma=0.1 ..................................................\n",
      "[CV] ...................... C=1, gamma=0.1, score=0.798, total=   5.9s\n",
      "[CV] C=1, gamma=0.1 ..................................................\n",
      "[CV] ...................... C=1, gamma=0.1, score=0.772, total=   5.0s\n",
      "[CV] C=1, gamma=0.1 ..................................................\n",
      "[CV] ...................... C=1, gamma=0.1, score=0.765, total=   5.7s\n",
      "[CV] C=1, gamma=0.01 .................................................\n",
      "[CV] ..................... C=1, gamma=0.01, score=0.264, total=   7.1s\n",
      "[CV] C=1, gamma=0.01 .................................................\n",
      "[CV] ..................... C=1, gamma=0.01, score=0.264, total=   6.3s\n",
      "[CV] C=1, gamma=0.01 .................................................\n",
      "[CV] ..................... C=1, gamma=0.01, score=0.424, total=   6.4s\n",
      "[CV] C=1, gamma=0.01 .................................................\n",
      "[CV] ..................... C=1, gamma=0.01, score=0.464, total=   5.5s\n",
      "[CV] C=1, gamma=0.01 .................................................\n",
      "[CV] ..................... C=1, gamma=0.01, score=0.447, total=   5.6s\n",
      "[CV] C=1, gamma=0.001 ................................................\n",
      "[CV] .................... C=1, gamma=0.001, score=0.264, total=   6.8s\n",
      "[CV] C=1, gamma=0.001 ................................................\n",
      "[CV] .................... C=1, gamma=0.001, score=0.264, total=   6.1s\n",
      "[CV] C=1, gamma=0.001 ................................................\n",
      "[CV] .................... C=1, gamma=0.001, score=0.424, total=   7.3s\n",
      "[CV] C=1, gamma=0.001 ................................................\n",
      "[CV] .................... C=1, gamma=0.001, score=0.464, total=   8.4s\n",
      "[CV] C=1, gamma=0.001 ................................................\n",
      "[CV] .................... C=1, gamma=0.001, score=0.447, total=   8.5s\n",
      "[CV] C=1, gamma=0.0001 ...............................................\n",
      "[CV] ................... C=1, gamma=0.0001, score=0.264, total=   6.4s\n",
      "[CV] C=1, gamma=0.0001 ...............................................\n",
      "[CV] ................... C=1, gamma=0.0001, score=0.264, total=   6.7s\n",
      "[CV] C=1, gamma=0.0001 ...............................................\n",
      "[CV] ................... C=1, gamma=0.0001, score=0.424, total=   6.6s\n",
      "[CV] C=1, gamma=0.0001 ...............................................\n",
      "[CV] ................... C=1, gamma=0.0001, score=0.464, total=   8.2s\n",
      "[CV] C=1, gamma=0.0001 ...............................................\n",
      "[CV] ................... C=1, gamma=0.0001, score=0.447, total=   7.8s\n",
      "[CV] C=1, gamma=1e-05 ................................................\n",
      "[CV] .................... C=1, gamma=1e-05, score=0.264, total=   6.2s\n",
      "[CV] C=1, gamma=1e-05 ................................................\n",
      "[CV] .................... C=1, gamma=1e-05, score=0.264, total=   7.5s\n",
      "[CV] C=1, gamma=1e-05 ................................................\n",
      "[CV] .................... C=1, gamma=1e-05, score=0.424, total=   7.3s\n",
      "[CV] C=1, gamma=1e-05 ................................................\n",
      "[CV] .................... C=1, gamma=1e-05, score=0.464, total=   6.6s\n",
      "[CV] C=1, gamma=1e-05 ................................................\n",
      "[CV] .................... C=1, gamma=1e-05, score=0.447, total=   6.1s\n",
      "[CV] C=10, gamma=1 ...................................................\n"
     ]
    },
    {
     "name": "stdout",
     "output_type": "stream",
     "text": [
      "[CV] ....................... C=10, gamma=1, score=0.941, total=   5.8s\n",
      "[CV] C=10, gamma=1 ...................................................\n",
      "[CV] ....................... C=10, gamma=1, score=0.947, total=   5.6s\n",
      "[CV] C=10, gamma=1 ...................................................\n",
      "[CV] ....................... C=10, gamma=1, score=0.954, total=   8.1s\n",
      "[CV] C=10, gamma=1 ...................................................\n",
      "[CV] ....................... C=10, gamma=1, score=0.921, total=   6.4s\n",
      "[CV] C=10, gamma=1 ...................................................\n",
      "[CV] ....................... C=10, gamma=1, score=0.930, total=   6.8s\n",
      "[CV] C=10, gamma=0.1 .................................................\n",
      "[CV] ..................... C=10, gamma=0.1, score=0.957, total=   6.4s\n",
      "[CV] C=10, gamma=0.1 .................................................\n",
      "[CV] ..................... C=10, gamma=0.1, score=0.954, total=   7.1s\n",
      "[CV] C=10, gamma=0.1 .................................................\n",
      "[CV] ..................... C=10, gamma=0.1, score=0.960, total=   7.3s\n",
      "[CV] C=10, gamma=0.1 .................................................\n",
      "[CV] ..................... C=10, gamma=0.1, score=0.940, total=   6.5s\n",
      "[CV] C=10, gamma=0.1 .................................................\n",
      "[CV] ..................... C=10, gamma=0.1, score=0.967, total=   6.5s\n",
      "[CV] C=10, gamma=0.01 ................................................\n",
      "[CV] .................... C=10, gamma=0.01, score=0.848, total=   5.0s\n",
      "[CV] C=10, gamma=0.01 ................................................\n",
      "[CV] .................... C=10, gamma=0.01, score=0.858, total=   5.1s\n",
      "[CV] C=10, gamma=0.01 ................................................\n",
      "[CV] .................... C=10, gamma=0.01, score=0.828, total=   4.9s\n",
      "[CV] C=10, gamma=0.01 ................................................\n",
      "[CV] .................... C=10, gamma=0.01, score=0.805, total=   4.9s\n",
      "[CV] C=10, gamma=0.01 ................................................\n",
      "[CV] .................... C=10, gamma=0.01, score=0.785, total=   5.1s\n",
      "[CV] C=10, gamma=0.001 ...............................................\n",
      "[CV] ................... C=10, gamma=0.001, score=0.264, total=   5.7s\n",
      "[CV] C=10, gamma=0.001 ...............................................\n",
      "[CV] ................... C=10, gamma=0.001, score=0.264, total=   8.8s\n",
      "[CV] C=10, gamma=0.001 ...............................................\n",
      "[CV] ................... C=10, gamma=0.001, score=0.424, total=   7.9s\n",
      "[CV] C=10, gamma=0.001 ...............................................\n",
      "[CV] ................... C=10, gamma=0.001, score=0.464, total=   8.3s\n",
      "[CV] C=10, gamma=0.001 ...............................................\n",
      "[CV] ................... C=10, gamma=0.001, score=0.447, total=   6.8s\n",
      "[CV] C=10, gamma=0.0001 ..............................................\n",
      "[CV] .................. C=10, gamma=0.0001, score=0.264, total=   6.2s\n",
      "[CV] C=10, gamma=0.0001 ..............................................\n",
      "[CV] .................. C=10, gamma=0.0001, score=0.264, total=   8.6s\n",
      "[CV] C=10, gamma=0.0001 ..............................................\n",
      "[CV] .................. C=10, gamma=0.0001, score=0.424, total=   7.8s\n",
      "[CV] C=10, gamma=0.0001 ..............................................\n",
      "[CV] .................. C=10, gamma=0.0001, score=0.464, total=   8.0s\n",
      "[CV] C=10, gamma=0.0001 ..............................................\n",
      "[CV] .................. C=10, gamma=0.0001, score=0.447, total=   9.2s\n",
      "[CV] C=10, gamma=1e-05 ...............................................\n",
      "[CV] ................... C=10, gamma=1e-05, score=0.264, total=   8.7s\n",
      "[CV] C=10, gamma=1e-05 ...............................................\n",
      "[CV] ................... C=10, gamma=1e-05, score=0.264, total=   6.8s\n",
      "[CV] C=10, gamma=1e-05 ...............................................\n",
      "[CV] ................... C=10, gamma=1e-05, score=0.424, total=   6.0s\n",
      "[CV] C=10, gamma=1e-05 ...............................................\n",
      "[CV] ................... C=10, gamma=1e-05, score=0.464, total=   6.8s\n",
      "[CV] C=10, gamma=1e-05 ...............................................\n",
      "[CV] ................... C=10, gamma=1e-05, score=0.447, total=   6.0s\n",
      "[CV] C=100, gamma=1 ..................................................\n",
      "[CV] ...................... C=100, gamma=1, score=0.941, total=   6.5s\n",
      "[CV] C=100, gamma=1 ..................................................\n",
      "[CV] ...................... C=100, gamma=1, score=0.947, total=   6.4s\n",
      "[CV] C=100, gamma=1 ..................................................\n",
      "[CV] ...................... C=100, gamma=1, score=0.954, total=  13.3s\n",
      "[CV] C=100, gamma=1 ..................................................\n",
      "[CV] ...................... C=100, gamma=1, score=0.921, total=  11.7s\n",
      "[CV] C=100, gamma=1 ..................................................\n",
      "[CV] ...................... C=100, gamma=1, score=0.930, total=   8.8s\n",
      "[CV] C=100, gamma=0.1 ................................................\n",
      "[CV] .................... C=100, gamma=0.1, score=0.954, total=  10.0s\n",
      "[CV] C=100, gamma=0.1 ................................................\n",
      "[CV] .................... C=100, gamma=0.1, score=0.954, total=   7.1s\n",
      "[CV] C=100, gamma=0.1 ................................................\n",
      "[CV] .................... C=100, gamma=0.1, score=0.960, total=   7.2s\n",
      "[CV] C=100, gamma=0.1 ................................................\n",
      "[CV] .................... C=100, gamma=0.1, score=0.940, total=   8.3s\n",
      "[CV] C=100, gamma=0.1 ................................................\n",
      "[CV] .................... C=100, gamma=0.1, score=0.967, total=   7.3s\n",
      "[CV] C=100, gamma=0.01 ...............................................\n",
      "[CV] ................... C=100, gamma=0.01, score=0.954, total=   7.4s\n",
      "[CV] C=100, gamma=0.01 ...............................................\n",
      "[CV] ................... C=100, gamma=0.01, score=0.954, total=   6.7s\n",
      "[CV] C=100, gamma=0.01 ...............................................\n",
      "[CV] ................... C=100, gamma=0.01, score=0.960, total=   6.0s\n",
      "[CV] C=100, gamma=0.01 ...............................................\n",
      "[CV] ................... C=100, gamma=0.01, score=0.944, total=   6.2s\n",
      "[CV] C=100, gamma=0.01 ...............................................\n",
      "[CV] ................... C=100, gamma=0.01, score=0.967, total=   6.0s\n",
      "[CV] C=100, gamma=0.001 ..............................................\n",
      "[CV] .................. C=100, gamma=0.001, score=0.848, total=   6.0s\n",
      "[CV] C=100, gamma=0.001 ..............................................\n",
      "[CV] .................. C=100, gamma=0.001, score=0.858, total=   5.5s\n",
      "[CV] C=100, gamma=0.001 ..............................................\n",
      "[CV] .................. C=100, gamma=0.001, score=0.834, total=   6.7s\n",
      "[CV] C=100, gamma=0.001 ..............................................\n",
      "[CV] .................. C=100, gamma=0.001, score=0.811, total=   6.5s\n",
      "[CV] C=100, gamma=0.001 ..............................................\n",
      "[CV] .................. C=100, gamma=0.001, score=0.785, total=   6.7s\n",
      "[CV] C=100, gamma=0.0001 .............................................\n",
      "[CV] ................. C=100, gamma=0.0001, score=0.264, total=   6.9s\n",
      "[CV] C=100, gamma=0.0001 .............................................\n",
      "[CV] ................. C=100, gamma=0.0001, score=0.264, total=   6.6s\n",
      "[CV] C=100, gamma=0.0001 .............................................\n",
      "[CV] ................. C=100, gamma=0.0001, score=0.424, total=   6.8s\n",
      "[CV] C=100, gamma=0.0001 .............................................\n",
      "[CV] ................. C=100, gamma=0.0001, score=0.464, total=   6.7s\n",
      "[CV] C=100, gamma=0.0001 .............................................\n",
      "[CV] ................. C=100, gamma=0.0001, score=0.447, total=   8.5s\n",
      "[CV] C=100, gamma=1e-05 ..............................................\n",
      "[CV] .................. C=100, gamma=1e-05, score=0.264, total=   7.7s\n",
      "[CV] C=100, gamma=1e-05 ..............................................\n",
      "[CV] .................. C=100, gamma=1e-05, score=0.264, total=   8.0s\n",
      "[CV] C=100, gamma=1e-05 ..............................................\n",
      "[CV] .................. C=100, gamma=1e-05, score=0.424, total=   7.2s\n",
      "[CV] C=100, gamma=1e-05 ..............................................\n"
     ]
    },
    {
     "name": "stdout",
     "output_type": "stream",
     "text": [
      "[CV] .................. C=100, gamma=1e-05, score=0.464, total=   7.0s\n",
      "[CV] C=100, gamma=1e-05 ..............................................\n",
      "[CV] .................. C=100, gamma=1e-05, score=0.447, total=   6.7s\n",
      "[CV] C=1000, gamma=1 .................................................\n",
      "[CV] ..................... C=1000, gamma=1, score=0.941, total=   5.8s\n",
      "[CV] C=1000, gamma=1 .................................................\n",
      "[CV] ..................... C=1000, gamma=1, score=0.947, total=   6.6s\n",
      "[CV] C=1000, gamma=1 .................................................\n",
      "[CV] ..................... C=1000, gamma=1, score=0.954, total=   5.6s\n",
      "[CV] C=1000, gamma=1 .................................................\n",
      "[CV] ..................... C=1000, gamma=1, score=0.921, total=   6.1s\n",
      "[CV] C=1000, gamma=1 .................................................\n",
      "[CV] ..................... C=1000, gamma=1, score=0.930, total=   6.1s\n",
      "[CV] C=1000, gamma=0.1 ...............................................\n",
      "[CV] ................... C=1000, gamma=0.1, score=0.954, total=   6.3s\n",
      "[CV] C=1000, gamma=0.1 ...............................................\n",
      "[CV] ................... C=1000, gamma=0.1, score=0.954, total=   6.9s\n",
      "[CV] C=1000, gamma=0.1 ...............................................\n",
      "[CV] ................... C=1000, gamma=0.1, score=0.960, total=   6.0s\n",
      "[CV] C=1000, gamma=0.1 ...............................................\n",
      "[CV] ................... C=1000, gamma=0.1, score=0.940, total=   5.6s\n",
      "[CV] C=1000, gamma=0.1 ...............................................\n",
      "[CV] ................... C=1000, gamma=0.1, score=0.967, total=   5.1s\n",
      "[CV] C=1000, gamma=0.01 ..............................................\n",
      "[CV] .................. C=1000, gamma=0.01, score=0.954, total=   5.8s\n",
      "[CV] C=1000, gamma=0.01 ..............................................\n",
      "[CV] .................. C=1000, gamma=0.01, score=0.954, total=   6.4s\n",
      "[CV] C=1000, gamma=0.01 ..............................................\n",
      "[CV] .................. C=1000, gamma=0.01, score=0.960, total=   6.9s\n",
      "[CV] C=1000, gamma=0.01 ..............................................\n",
      "[CV] .................. C=1000, gamma=0.01, score=0.944, total=   9.2s\n",
      "[CV] C=1000, gamma=0.01 ..............................................\n",
      "[CV] .................. C=1000, gamma=0.01, score=0.967, total=   7.8s\n",
      "[CV] C=1000, gamma=0.001 .............................................\n",
      "[CV] ................. C=1000, gamma=0.001, score=0.954, total=   9.1s\n",
      "[CV] C=1000, gamma=0.001 .............................................\n",
      "[CV] ................. C=1000, gamma=0.001, score=0.954, total=   6.8s\n",
      "[CV] C=1000, gamma=0.001 .............................................\n",
      "[CV] ................. C=1000, gamma=0.001, score=0.960, total=   6.5s\n",
      "[CV] C=1000, gamma=0.001 .............................................\n",
      "[CV] ................. C=1000, gamma=0.001, score=0.944, total=   6.4s\n",
      "[CV] C=1000, gamma=0.001 .............................................\n",
      "[CV] ................. C=1000, gamma=0.001, score=0.967, total=   7.3s\n",
      "[CV] C=1000, gamma=0.0001 ............................................\n",
      "[CV] ................ C=1000, gamma=0.0001, score=0.848, total=   5.0s\n",
      "[CV] C=1000, gamma=0.0001 ............................................\n",
      "[CV] ................ C=1000, gamma=0.0001, score=0.858, total=   7.0s\n",
      "[CV] C=1000, gamma=0.0001 ............................................\n",
      "[CV] ................ C=1000, gamma=0.0001, score=0.834, total=   6.7s\n",
      "[CV] C=1000, gamma=0.0001 ............................................\n",
      "[CV] ................ C=1000, gamma=0.0001, score=0.815, total=   6.2s\n",
      "[CV] C=1000, gamma=0.0001 ............................................\n",
      "[CV] ................ C=1000, gamma=0.0001, score=0.785, total=   6.5s\n",
      "[CV] C=1000, gamma=1e-05 .............................................\n",
      "[CV] ................. C=1000, gamma=1e-05, score=0.264, total=   7.1s\n",
      "[CV] C=1000, gamma=1e-05 .............................................\n",
      "[CV] ................. C=1000, gamma=1e-05, score=0.264, total=   6.4s\n",
      "[CV] C=1000, gamma=1e-05 .............................................\n",
      "[CV] ................. C=1000, gamma=1e-05, score=0.424, total=   6.6s\n",
      "[CV] C=1000, gamma=1e-05 .............................................\n",
      "[CV] ................. C=1000, gamma=1e-05, score=0.464, total=   6.2s\n",
      "[CV] C=1000, gamma=1e-05 .............................................\n",
      "[CV] ................. C=1000, gamma=1e-05, score=0.447, total=   7.5s\n",
      "[CV] C=10000, gamma=1 ................................................\n",
      "[CV] .................... C=10000, gamma=1, score=0.941, total=   6.2s\n",
      "[CV] C=10000, gamma=1 ................................................\n",
      "[CV] .................... C=10000, gamma=1, score=0.947, total=   6.3s\n",
      "[CV] C=10000, gamma=1 ................................................\n",
      "[CV] .................... C=10000, gamma=1, score=0.954, total=   8.2s\n",
      "[CV] C=10000, gamma=1 ................................................\n",
      "[CV] .................... C=10000, gamma=1, score=0.921, total=  10.4s\n",
      "[CV] C=10000, gamma=1 ................................................\n",
      "[CV] .................... C=10000, gamma=1, score=0.930, total=  10.6s\n",
      "[CV] C=10000, gamma=0.1 ..............................................\n",
      "[CV] .................. C=10000, gamma=0.1, score=0.954, total=   7.2s\n",
      "[CV] C=10000, gamma=0.1 ..............................................\n",
      "[CV] .................. C=10000, gamma=0.1, score=0.954, total=   5.8s\n",
      "[CV] C=10000, gamma=0.1 ..............................................\n",
      "[CV] .................. C=10000, gamma=0.1, score=0.960, total=   8.0s\n",
      "[CV] C=10000, gamma=0.1 ..............................................\n",
      "[CV] .................. C=10000, gamma=0.1, score=0.940, total=   7.1s\n",
      "[CV] C=10000, gamma=0.1 ..............................................\n",
      "[CV] .................. C=10000, gamma=0.1, score=0.967, total=   7.3s\n",
      "[CV] C=10000, gamma=0.01 .............................................\n",
      "[CV] ................. C=10000, gamma=0.01, score=0.954, total=   7.7s\n",
      "[CV] C=10000, gamma=0.01 .............................................\n",
      "[CV] ................. C=10000, gamma=0.01, score=0.954, total=   7.3s\n",
      "[CV] C=10000, gamma=0.01 .............................................\n",
      "[CV] ................. C=10000, gamma=0.01, score=0.960, total=   7.1s\n",
      "[CV] C=10000, gamma=0.01 .............................................\n",
      "[CV] ................. C=10000, gamma=0.01, score=0.944, total=   6.3s\n",
      "[CV] C=10000, gamma=0.01 .............................................\n",
      "[CV] ................. C=10000, gamma=0.01, score=0.967, total=   5.7s\n",
      "[CV] C=10000, gamma=0.001 ............................................\n",
      "[CV] ................ C=10000, gamma=0.001, score=0.954, total=   5.8s\n",
      "[CV] C=10000, gamma=0.001 ............................................\n",
      "[CV] ................ C=10000, gamma=0.001, score=0.954, total=   5.3s\n",
      "[CV] C=10000, gamma=0.001 ............................................\n",
      "[CV] ................ C=10000, gamma=0.001, score=0.960, total=   5.1s\n",
      "[CV] C=10000, gamma=0.001 ............................................\n",
      "[CV] ................ C=10000, gamma=0.001, score=0.944, total=   6.5s\n",
      "[CV] C=10000, gamma=0.001 ............................................\n",
      "[CV] ................ C=10000, gamma=0.001, score=0.967, total=   8.6s\n",
      "[CV] C=10000, gamma=0.0001 ...........................................\n",
      "[CV] ............... C=10000, gamma=0.0001, score=0.954, total=   6.8s\n",
      "[CV] C=10000, gamma=0.0001 ...........................................\n",
      "[CV] ............... C=10000, gamma=0.0001, score=0.954, total=   6.1s\n",
      "[CV] C=10000, gamma=0.0001 ...........................................\n",
      "[CV] ............... C=10000, gamma=0.0001, score=0.960, total=   6.1s\n",
      "[CV] C=10000, gamma=0.0001 ...........................................\n",
      "[CV] ............... C=10000, gamma=0.0001, score=0.944, total=   6.1s\n",
      "[CV] C=10000, gamma=0.0001 ...........................................\n",
      "[CV] ............... C=10000, gamma=0.0001, score=0.967, total=   7.7s\n",
      "[CV] C=10000, gamma=1e-05 ............................................\n",
      "[CV] ................ C=10000, gamma=1e-05, score=0.848, total=   5.7s\n",
      "[CV] C=10000, gamma=1e-05 ............................................\n"
     ]
    },
    {
     "name": "stdout",
     "output_type": "stream",
     "text": [
      "[CV] ................ C=10000, gamma=1e-05, score=0.858, total=   5.4s\n",
      "[CV] C=10000, gamma=1e-05 ............................................\n",
      "[CV] ................ C=10000, gamma=1e-05, score=0.834, total=   5.8s\n",
      "[CV] C=10000, gamma=1e-05 ............................................\n",
      "[CV] ................ C=10000, gamma=1e-05, score=0.815, total=   5.3s\n",
      "[CV] C=10000, gamma=1e-05 ............................................\n",
      "[CV] ................ C=10000, gamma=1e-05, score=0.785, total=   6.6s\n"
     ]
    },
    {
     "name": "stderr",
     "output_type": "stream",
     "text": [
      "[Parallel(n_jobs=1)]: Done 180 out of 180 | elapsed: 20.1min finished\n"
     ]
    },
    {
     "data": {
      "text/plain": [
       "Pipeline(steps=[('bag', CountVectorizer()), ('tfidf', TfidfTransformer()),\n",
       "                ('classifier',\n",
       "                 GridSearchCV(estimator=SVC(),\n",
       "                              param_grid={'C': [0.1, 1, 10, 100, 1000, 10000],\n",
       "                                          'gamma': [1, 0.1, 0.01, 0.001, 0.0001,\n",
       "                                                    1e-05]},\n",
       "                              verbose=3))])"
      ]
     },
     "execution_count": 114,
     "metadata": {},
     "output_type": "execute_result"
    }
   ],
   "source": [
    "pipe.fit(X_train,y_train)"
   ]
  },
  {
   "cell_type": "code",
   "execution_count": 115,
   "metadata": {},
   "outputs": [
    {
     "name": "stdout",
     "output_type": "stream",
     "text": [
      "                        precision    recall  f1-score   support\n",
      "\n",
      "           alt.atheism       0.99      0.96      0.98       165\n",
      "         comp.graphics       0.94      0.96      0.95       189\n",
      "               sci.med       0.97      0.97      0.97       193\n",
      "soc.religion.christian       0.97      0.97      0.97       198\n",
      "\n",
      "              accuracy                           0.97       745\n",
      "             macro avg       0.97      0.97      0.97       745\n",
      "          weighted avg       0.97      0.97      0.97       745\n",
      "\n"
     ]
    }
   ],
   "source": [
    "from sklearn.metrics import confusion_matrix,classification_report\n",
    "pre = pipe.predict(X_test)\n",
    "print(classification_report(y_test,pre))"
   ]
  },
  {
   "cell_type": "code",
   "execution_count": 120,
   "metadata": {},
   "outputs": [
    {
     "name": "stdout",
     "output_type": "stream",
     "text": [
      "                        precision    recall  f1-score   support\n",
      "\n",
      "           alt.atheism       1.00      0.79      0.89       165\n",
      "         comp.graphics       0.98      0.92      0.95       189\n",
      "               sci.med       0.98      0.96      0.97       193\n",
      "soc.religion.christian       0.79      0.99      0.88       198\n",
      "\n",
      "              accuracy                           0.92       745\n",
      "             macro avg       0.94      0.92      0.92       745\n",
      "          weighted avg       0.94      0.92      0.92       745\n",
      "\n"
     ]
    }
   ],
   "source": [
    "pipee = Pipeline([('bag_of_word',CountVectorizer()),\n",
    "                 ('tifid',TfidfTransformer()),\n",
    "                 ('classifier',MultinomialNB()) \n",
    "            ])\n",
    "pipee.fit(X_train,y_train)\n",
    "pred = pipee.predict(X_test)\n",
    "print(classification_report(y_test,pred))"
   ]
  },
  {
   "cell_type": "code",
   "execution_count": 134,
   "metadata": {},
   "outputs": [
    {
     "data": {
      "text/plain": [
       "False"
      ]
     },
     "execution_count": 134,
     "metadata": {},
     "output_type": "execute_result"
    }
   ],
   "source": [
    "'tfidf__use_idf'in pipee.get_params().keys()"
   ]
  },
  {
   "cell_type": "code",
   "execution_count": 135,
   "metadata": {},
   "outputs": [
    {
     "name": "stdout",
     "output_type": "stream",
     "text": [
      "Fitting 5 folds for each of 36 candidates, totalling 180 fits\n",
      "[CV] C=0.1, gamma=1 ..................................................\n"
     ]
    },
    {
     "name": "stderr",
     "output_type": "stream",
     "text": [
      "[Parallel(n_jobs=1)]: Using backend SequentialBackend with 1 concurrent workers.\n"
     ]
    },
    {
     "name": "stdout",
     "output_type": "stream",
     "text": [
      "[CV] ...................... C=0.1, gamma=1, score=0.403, total=   5.2s\n",
      "[CV] C=0.1, gamma=1 ..................................................\n"
     ]
    },
    {
     "name": "stderr",
     "output_type": "stream",
     "text": [
      "[Parallel(n_jobs=1)]: Done   1 out of   1 | elapsed:    5.1s remaining:    0.0s\n"
     ]
    },
    {
     "name": "stdout",
     "output_type": "stream",
     "text": [
      "[CV] ...................... C=0.1, gamma=1, score=0.366, total=   5.1s\n",
      "[CV] C=0.1, gamma=1 ..................................................\n"
     ]
    },
    {
     "name": "stderr",
     "output_type": "stream",
     "text": [
      "[Parallel(n_jobs=1)]: Done   2 out of   2 | elapsed:   10.2s remaining:    0.0s\n"
     ]
    },
    {
     "name": "stdout",
     "output_type": "stream",
     "text": [
      "[CV] ...................... C=0.1, gamma=1, score=0.381, total=   5.2s\n",
      "[CV] C=0.1, gamma=1 ..................................................\n",
      "[CV] ...................... C=0.1, gamma=1, score=0.411, total=   5.1s\n",
      "[CV] C=0.1, gamma=1 ..................................................\n",
      "[CV] ...................... C=0.1, gamma=1, score=0.404, total=   5.2s\n",
      "[CV] C=0.1, gamma=0.1 ................................................\n",
      "[CV] .................... C=0.1, gamma=0.1, score=0.264, total=   5.1s\n",
      "[CV] C=0.1, gamma=0.1 ................................................\n",
      "[CV] .................... C=0.1, gamma=0.1, score=0.264, total=   5.1s\n",
      "[CV] C=0.1, gamma=0.1 ................................................\n",
      "[CV] .................... C=0.1, gamma=0.1, score=0.417, total=   5.1s\n",
      "[CV] C=0.1, gamma=0.1 ................................................\n",
      "[CV] .................... C=0.1, gamma=0.1, score=0.464, total=   5.1s\n",
      "[CV] C=0.1, gamma=0.1 ................................................\n",
      "[CV] .................... C=0.1, gamma=0.1, score=0.444, total=   5.1s\n",
      "[CV] C=0.1, gamma=0.01 ...............................................\n",
      "[CV] ................... C=0.1, gamma=0.01, score=0.264, total=   5.1s\n",
      "[CV] C=0.1, gamma=0.01 ...............................................\n",
      "[CV] ................... C=0.1, gamma=0.01, score=0.264, total=   5.1s\n",
      "[CV] C=0.1, gamma=0.01 ...............................................\n",
      "[CV] ................... C=0.1, gamma=0.01, score=0.424, total=   5.1s\n",
      "[CV] C=0.1, gamma=0.01 ...............................................\n",
      "[CV] ................... C=0.1, gamma=0.01, score=0.464, total=   5.1s\n",
      "[CV] C=0.1, gamma=0.01 ...............................................\n",
      "[CV] ................... C=0.1, gamma=0.01, score=0.447, total=   5.2s\n",
      "[CV] C=0.1, gamma=0.001 ..............................................\n",
      "[CV] .................. C=0.1, gamma=0.001, score=0.264, total=   5.0s\n",
      "[CV] C=0.1, gamma=0.001 ..............................................\n",
      "[CV] .................. C=0.1, gamma=0.001, score=0.264, total=   5.1s\n",
      "[CV] C=0.1, gamma=0.001 ..............................................\n",
      "[CV] .................. C=0.1, gamma=0.001, score=0.424, total=   5.1s\n",
      "[CV] C=0.1, gamma=0.001 ..............................................\n",
      "[CV] .................. C=0.1, gamma=0.001, score=0.464, total=   5.1s\n",
      "[CV] C=0.1, gamma=0.001 ..............................................\n",
      "[CV] .................. C=0.1, gamma=0.001, score=0.447, total=   5.1s\n",
      "[CV] C=0.1, gamma=0.0001 .............................................\n",
      "[CV] ................. C=0.1, gamma=0.0001, score=0.264, total=   4.9s\n",
      "[CV] C=0.1, gamma=0.0001 .............................................\n",
      "[CV] ................. C=0.1, gamma=0.0001, score=0.264, total=   4.9s\n",
      "[CV] C=0.1, gamma=0.0001 .............................................\n",
      "[CV] ................. C=0.1, gamma=0.0001, score=0.424, total=   5.0s\n",
      "[CV] C=0.1, gamma=0.0001 .............................................\n",
      "[CV] ................. C=0.1, gamma=0.0001, score=0.464, total=   5.1s\n",
      "[CV] C=0.1, gamma=0.0001 .............................................\n",
      "[CV] ................. C=0.1, gamma=0.0001, score=0.447, total=   5.0s\n",
      "[CV] C=0.1, gamma=1e-05 ..............................................\n",
      "[CV] .................. C=0.1, gamma=1e-05, score=0.264, total=   4.9s\n",
      "[CV] C=0.1, gamma=1e-05 ..............................................\n",
      "[CV] .................. C=0.1, gamma=1e-05, score=0.264, total=   4.9s\n",
      "[CV] C=0.1, gamma=1e-05 ..............................................\n",
      "[CV] .................. C=0.1, gamma=1e-05, score=0.424, total=   5.0s\n",
      "[CV] C=0.1, gamma=1e-05 ..............................................\n",
      "[CV] .................. C=0.1, gamma=1e-05, score=0.464, total=   5.1s\n",
      "[CV] C=0.1, gamma=1e-05 ..............................................\n",
      "[CV] .................. C=0.1, gamma=1e-05, score=0.447, total=   5.0s\n",
      "[CV] C=1, gamma=1 ....................................................\n",
      "[CV] ........................ C=1, gamma=1, score=0.941, total=   5.1s\n",
      "[CV] C=1, gamma=1 ....................................................\n",
      "[CV] ........................ C=1, gamma=1, score=0.941, total=   5.1s\n",
      "[CV] C=1, gamma=1 ....................................................\n",
      "[CV] ........................ C=1, gamma=1, score=0.940, total=   5.1s\n",
      "[CV] C=1, gamma=1 ....................................................\n",
      "[CV] ........................ C=1, gamma=1, score=0.911, total=   5.1s\n",
      "[CV] C=1, gamma=1 ....................................................\n",
      "[CV] ........................ C=1, gamma=1, score=0.907, total=   5.1s\n",
      "[CV] C=1, gamma=0.1 ..................................................\n",
      "[CV] ...................... C=1, gamma=0.1, score=0.818, total=   4.5s\n",
      "[CV] C=1, gamma=0.1 ..................................................\n",
      "[CV] ...................... C=1, gamma=0.1, score=0.842, total=   4.6s\n",
      "[CV] C=1, gamma=0.1 ..................................................\n",
      "[CV] ...................... C=1, gamma=0.1, score=0.798, total=   4.6s\n",
      "[CV] C=1, gamma=0.1 ..................................................\n",
      "[CV] ...................... C=1, gamma=0.1, score=0.772, total=   4.6s\n",
      "[CV] C=1, gamma=0.1 ..................................................\n",
      "[CV] ...................... C=1, gamma=0.1, score=0.765, total=   4.6s\n",
      "[CV] C=1, gamma=0.01 .................................................\n",
      "[CV] ..................... C=1, gamma=0.01, score=0.264, total=   5.1s\n",
      "[CV] C=1, gamma=0.01 .................................................\n",
      "[CV] ..................... C=1, gamma=0.01, score=0.264, total=   5.1s\n",
      "[CV] C=1, gamma=0.01 .................................................\n",
      "[CV] ..................... C=1, gamma=0.01, score=0.424, total=   5.2s\n",
      "[CV] C=1, gamma=0.01 .................................................\n",
      "[CV] ..................... C=1, gamma=0.01, score=0.464, total=   5.1s\n",
      "[CV] C=1, gamma=0.01 .................................................\n",
      "[CV] ..................... C=1, gamma=0.01, score=0.447, total=   5.1s\n",
      "[CV] C=1, gamma=0.001 ................................................\n",
      "[CV] .................... C=1, gamma=0.001, score=0.264, total=   5.1s\n",
      "[CV] C=1, gamma=0.001 ................................................\n",
      "[CV] .................... C=1, gamma=0.001, score=0.264, total=   5.1s\n",
      "[CV] C=1, gamma=0.001 ................................................\n",
      "[CV] .................... C=1, gamma=0.001, score=0.424, total=   5.2s\n",
      "[CV] C=1, gamma=0.001 ................................................\n",
      "[CV] .................... C=1, gamma=0.001, score=0.464, total=   5.1s\n",
      "[CV] C=1, gamma=0.001 ................................................\n",
      "[CV] .................... C=1, gamma=0.001, score=0.447, total=   5.1s\n",
      "[CV] C=1, gamma=0.0001 ...............................................\n",
      "[CV] ................... C=1, gamma=0.0001, score=0.264, total=   5.0s\n",
      "[CV] C=1, gamma=0.0001 ...............................................\n",
      "[CV] ................... C=1, gamma=0.0001, score=0.264, total=   5.0s\n",
      "[CV] C=1, gamma=0.0001 ...............................................\n",
      "[CV] ................... C=1, gamma=0.0001, score=0.424, total=   5.1s\n",
      "[CV] C=1, gamma=0.0001 ...............................................\n",
      "[CV] ................... C=1, gamma=0.0001, score=0.464, total=   5.1s\n",
      "[CV] C=1, gamma=0.0001 ...............................................\n",
      "[CV] ................... C=1, gamma=0.0001, score=0.447, total=   5.1s\n",
      "[CV] C=1, gamma=1e-05 ................................................\n",
      "[CV] .................... C=1, gamma=1e-05, score=0.264, total=   4.9s\n",
      "[CV] C=1, gamma=1e-05 ................................................\n",
      "[CV] .................... C=1, gamma=1e-05, score=0.264, total=   4.9s\n",
      "[CV] C=1, gamma=1e-05 ................................................\n",
      "[CV] .................... C=1, gamma=1e-05, score=0.424, total=   5.0s\n",
      "[CV] C=1, gamma=1e-05 ................................................\n",
      "[CV] .................... C=1, gamma=1e-05, score=0.464, total=   5.0s\n",
      "[CV] C=1, gamma=1e-05 ................................................\n",
      "[CV] .................... C=1, gamma=1e-05, score=0.447, total=   5.0s\n",
      "[CV] C=10, gamma=1 ...................................................\n"
     ]
    },
    {
     "name": "stdout",
     "output_type": "stream",
     "text": [
      "[CV] ....................... C=10, gamma=1, score=0.941, total=   5.1s\n",
      "[CV] C=10, gamma=1 ...................................................\n",
      "[CV] ....................... C=10, gamma=1, score=0.947, total=   5.1s\n",
      "[CV] C=10, gamma=1 ...................................................\n",
      "[CV] ....................... C=10, gamma=1, score=0.954, total=   5.1s\n",
      "[CV] C=10, gamma=1 ...................................................\n",
      "[CV] ....................... C=10, gamma=1, score=0.921, total=   5.1s\n",
      "[CV] C=10, gamma=1 ...................................................\n",
      "[CV] ....................... C=10, gamma=1, score=0.930, total=   5.2s\n",
      "[CV] C=10, gamma=0.1 .................................................\n",
      "[CV] ..................... C=10, gamma=0.1, score=0.957, total=   4.7s\n",
      "[CV] C=10, gamma=0.1 .................................................\n",
      "[CV] ..................... C=10, gamma=0.1, score=0.954, total=   4.7s\n",
      "[CV] C=10, gamma=0.1 .................................................\n",
      "[CV] ..................... C=10, gamma=0.1, score=0.960, total=   4.7s\n",
      "[CV] C=10, gamma=0.1 .................................................\n",
      "[CV] ..................... C=10, gamma=0.1, score=0.940, total=   4.6s\n",
      "[CV] C=10, gamma=0.1 .................................................\n",
      "[CV] ..................... C=10, gamma=0.1, score=0.967, total=   4.6s\n",
      "[CV] C=10, gamma=0.01 ................................................\n",
      "[CV] .................... C=10, gamma=0.01, score=0.848, total=   4.4s\n",
      "[CV] C=10, gamma=0.01 ................................................\n",
      "[CV] .................... C=10, gamma=0.01, score=0.858, total=   4.5s\n",
      "[CV] C=10, gamma=0.01 ................................................\n",
      "[CV] .................... C=10, gamma=0.01, score=0.828, total=   4.5s\n",
      "[CV] C=10, gamma=0.01 ................................................\n",
      "[CV] .................... C=10, gamma=0.01, score=0.805, total=   4.4s\n",
      "[CV] C=10, gamma=0.01 ................................................\n",
      "[CV] .................... C=10, gamma=0.01, score=0.785, total=   4.5s\n",
      "[CV] C=10, gamma=0.001 ...............................................\n",
      "[CV] ................... C=10, gamma=0.001, score=0.264, total=   5.0s\n",
      "[CV] C=10, gamma=0.001 ...............................................\n",
      "[CV] ................... C=10, gamma=0.001, score=0.264, total=   5.1s\n",
      "[CV] C=10, gamma=0.001 ...............................................\n",
      "[CV] ................... C=10, gamma=0.001, score=0.424, total=   5.2s\n",
      "[CV] C=10, gamma=0.001 ...............................................\n",
      "[CV] ................... C=10, gamma=0.001, score=0.464, total=   5.1s\n",
      "[CV] C=10, gamma=0.001 ...............................................\n",
      "[CV] ................... C=10, gamma=0.001, score=0.447, total=   5.2s\n",
      "[CV] C=10, gamma=0.0001 ..............................................\n",
      "[CV] .................. C=10, gamma=0.0001, score=0.264, total=   5.2s\n",
      "[CV] C=10, gamma=0.0001 ..............................................\n",
      "[CV] .................. C=10, gamma=0.0001, score=0.264, total=   5.1s\n",
      "[CV] C=10, gamma=0.0001 ..............................................\n",
      "[CV] .................. C=10, gamma=0.0001, score=0.424, total=   5.1s\n",
      "[CV] C=10, gamma=0.0001 ..............................................\n",
      "[CV] .................. C=10, gamma=0.0001, score=0.464, total=   5.1s\n",
      "[CV] C=10, gamma=0.0001 ..............................................\n",
      "[CV] .................. C=10, gamma=0.0001, score=0.447, total=   5.2s\n",
      "[CV] C=10, gamma=1e-05 ...............................................\n",
      "[CV] ................... C=10, gamma=1e-05, score=0.264, total=   5.0s\n",
      "[CV] C=10, gamma=1e-05 ...............................................\n",
      "[CV] ................... C=10, gamma=1e-05, score=0.264, total=   5.0s\n",
      "[CV] C=10, gamma=1e-05 ...............................................\n",
      "[CV] ................... C=10, gamma=1e-05, score=0.424, total=   5.0s\n",
      "[CV] C=10, gamma=1e-05 ...............................................\n",
      "[CV] ................... C=10, gamma=1e-05, score=0.464, total=   5.0s\n",
      "[CV] C=10, gamma=1e-05 ...............................................\n",
      "[CV] ................... C=10, gamma=1e-05, score=0.447, total=   5.2s\n",
      "[CV] C=100, gamma=1 ..................................................\n",
      "[CV] ...................... C=100, gamma=1, score=0.941, total=   5.1s\n",
      "[CV] C=100, gamma=1 ..................................................\n",
      "[CV] ...................... C=100, gamma=1, score=0.947, total=   5.1s\n",
      "[CV] C=100, gamma=1 ..................................................\n",
      "[CV] ...................... C=100, gamma=1, score=0.954, total=   5.1s\n",
      "[CV] C=100, gamma=1 ..................................................\n",
      "[CV] ...................... C=100, gamma=1, score=0.921, total=   5.1s\n",
      "[CV] C=100, gamma=1 ..................................................\n",
      "[CV] ...................... C=100, gamma=1, score=0.930, total=   5.2s\n",
      "[CV] C=100, gamma=0.1 ................................................\n",
      "[CV] .................... C=100, gamma=0.1, score=0.954, total=   4.6s\n",
      "[CV] C=100, gamma=0.1 ................................................\n",
      "[CV] .................... C=100, gamma=0.1, score=0.954, total=   4.7s\n",
      "[CV] C=100, gamma=0.1 ................................................\n",
      "[CV] .................... C=100, gamma=0.1, score=0.960, total=   4.7s\n",
      "[CV] C=100, gamma=0.1 ................................................\n",
      "[CV] .................... C=100, gamma=0.1, score=0.940, total=   4.6s\n",
      "[CV] C=100, gamma=0.1 ................................................\n",
      "[CV] .................... C=100, gamma=0.1, score=0.967, total=   4.7s\n",
      "[CV] C=100, gamma=0.01 ...............................................\n",
      "[CV] ................... C=100, gamma=0.01, score=0.954, total=   4.5s\n",
      "[CV] C=100, gamma=0.01 ...............................................\n",
      "[CV] ................... C=100, gamma=0.01, score=0.954, total=   4.7s\n",
      "[CV] C=100, gamma=0.01 ...............................................\n",
      "[CV] ................... C=100, gamma=0.01, score=0.960, total=   4.6s\n",
      "[CV] C=100, gamma=0.01 ...............................................\n",
      "[CV] ................... C=100, gamma=0.01, score=0.944, total=   4.6s\n",
      "[CV] C=100, gamma=0.01 ...............................................\n",
      "[CV] ................... C=100, gamma=0.01, score=0.967, total=   4.6s\n",
      "[CV] C=100, gamma=0.001 ..............................................\n",
      "[CV] .................. C=100, gamma=0.001, score=0.848, total=   4.4s\n",
      "[CV] C=100, gamma=0.001 ..............................................\n",
      "[CV] .................. C=100, gamma=0.001, score=0.858, total=   4.4s\n",
      "[CV] C=100, gamma=0.001 ..............................................\n",
      "[CV] .................. C=100, gamma=0.001, score=0.834, total=   4.5s\n",
      "[CV] C=100, gamma=0.001 ..............................................\n",
      "[CV] .................. C=100, gamma=0.001, score=0.811, total=   4.4s\n",
      "[CV] C=100, gamma=0.001 ..............................................\n",
      "[CV] .................. C=100, gamma=0.001, score=0.785, total=   4.5s\n",
      "[CV] C=100, gamma=0.0001 .............................................\n",
      "[CV] ................. C=100, gamma=0.0001, score=0.264, total=   5.0s\n",
      "[CV] C=100, gamma=0.0001 .............................................\n",
      "[CV] ................. C=100, gamma=0.0001, score=0.264, total=   5.1s\n",
      "[CV] C=100, gamma=0.0001 .............................................\n",
      "[CV] ................. C=100, gamma=0.0001, score=0.424, total=   5.1s\n",
      "[CV] C=100, gamma=0.0001 .............................................\n",
      "[CV] ................. C=100, gamma=0.0001, score=0.464, total=   5.0s\n",
      "[CV] C=100, gamma=0.0001 .............................................\n",
      "[CV] ................. C=100, gamma=0.0001, score=0.447, total=   5.2s\n",
      "[CV] C=100, gamma=1e-05 ..............................................\n",
      "[CV] .................. C=100, gamma=1e-05, score=0.264, total=   5.1s\n",
      "[CV] C=100, gamma=1e-05 ..............................................\n",
      "[CV] .................. C=100, gamma=1e-05, score=0.264, total=   5.1s\n",
      "[CV] C=100, gamma=1e-05 ..............................................\n",
      "[CV] .................. C=100, gamma=1e-05, score=0.424, total=   5.1s\n",
      "[CV] C=100, gamma=1e-05 ..............................................\n"
     ]
    },
    {
     "name": "stdout",
     "output_type": "stream",
     "text": [
      "[CV] .................. C=100, gamma=1e-05, score=0.464, total=   5.1s\n",
      "[CV] C=100, gamma=1e-05 ..............................................\n",
      "[CV] .................. C=100, gamma=1e-05, score=0.447, total=   5.1s\n",
      "[CV] C=1000, gamma=1 .................................................\n",
      "[CV] ..................... C=1000, gamma=1, score=0.941, total=   5.1s\n",
      "[CV] C=1000, gamma=1 .................................................\n",
      "[CV] ..................... C=1000, gamma=1, score=0.947, total=   5.2s\n",
      "[CV] C=1000, gamma=1 .................................................\n",
      "[CV] ..................... C=1000, gamma=1, score=0.954, total=   5.1s\n",
      "[CV] C=1000, gamma=1 .................................................\n",
      "[CV] ..................... C=1000, gamma=1, score=0.921, total=   5.1s\n",
      "[CV] C=1000, gamma=1 .................................................\n",
      "[CV] ..................... C=1000, gamma=1, score=0.930, total=   5.1s\n",
      "[CV] C=1000, gamma=0.1 ...............................................\n",
      "[CV] ................... C=1000, gamma=0.1, score=0.954, total=   4.6s\n",
      "[CV] C=1000, gamma=0.1 ...............................................\n",
      "[CV] ................... C=1000, gamma=0.1, score=0.954, total=   4.7s\n",
      "[CV] C=1000, gamma=0.1 ...............................................\n",
      "[CV] ................... C=1000, gamma=0.1, score=0.960, total=   4.7s\n",
      "[CV] C=1000, gamma=0.1 ...............................................\n",
      "[CV] ................... C=1000, gamma=0.1, score=0.940, total=   4.7s\n",
      "[CV] C=1000, gamma=0.1 ...............................................\n",
      "[CV] ................... C=1000, gamma=0.1, score=0.967, total=   4.6s\n",
      "[CV] C=1000, gamma=0.01 ..............................................\n",
      "[CV] .................. C=1000, gamma=0.01, score=0.954, total=   4.5s\n",
      "[CV] C=1000, gamma=0.01 ..............................................\n",
      "[CV] .................. C=1000, gamma=0.01, score=0.954, total=   4.5s\n",
      "[CV] C=1000, gamma=0.01 ..............................................\n",
      "[CV] .................. C=1000, gamma=0.01, score=0.960, total=   4.6s\n",
      "[CV] C=1000, gamma=0.01 ..............................................\n",
      "[CV] .................. C=1000, gamma=0.01, score=0.944, total=   4.5s\n",
      "[CV] C=1000, gamma=0.01 ..............................................\n",
      "[CV] .................. C=1000, gamma=0.01, score=0.967, total=   4.6s\n",
      "[CV] C=1000, gamma=0.001 .............................................\n",
      "[CV] ................. C=1000, gamma=0.001, score=0.954, total=   4.5s\n",
      "[CV] C=1000, gamma=0.001 .............................................\n",
      "[CV] ................. C=1000, gamma=0.001, score=0.954, total=   4.6s\n",
      "[CV] C=1000, gamma=0.001 .............................................\n",
      "[CV] ................. C=1000, gamma=0.001, score=0.960, total=   4.6s\n",
      "[CV] C=1000, gamma=0.001 .............................................\n",
      "[CV] ................. C=1000, gamma=0.001, score=0.944, total=   4.5s\n",
      "[CV] C=1000, gamma=0.001 .............................................\n",
      "[CV] ................. C=1000, gamma=0.001, score=0.967, total=   4.6s\n",
      "[CV] C=1000, gamma=0.0001 ............................................\n",
      "[CV] ................ C=1000, gamma=0.0001, score=0.848, total=   4.4s\n",
      "[CV] C=1000, gamma=0.0001 ............................................\n",
      "[CV] ................ C=1000, gamma=0.0001, score=0.858, total=   4.5s\n",
      "[CV] C=1000, gamma=0.0001 ............................................\n",
      "[CV] ................ C=1000, gamma=0.0001, score=0.834, total=   4.4s\n",
      "[CV] C=1000, gamma=0.0001 ............................................\n",
      "[CV] ................ C=1000, gamma=0.0001, score=0.815, total=   4.4s\n",
      "[CV] C=1000, gamma=0.0001 ............................................\n",
      "[CV] ................ C=1000, gamma=0.0001, score=0.785, total=   4.4s\n",
      "[CV] C=1000, gamma=1e-05 .............................................\n",
      "[CV] ................. C=1000, gamma=1e-05, score=0.264, total=   5.0s\n",
      "[CV] C=1000, gamma=1e-05 .............................................\n",
      "[CV] ................. C=1000, gamma=1e-05, score=0.264, total=   5.1s\n",
      "[CV] C=1000, gamma=1e-05 .............................................\n",
      "[CV] ................. C=1000, gamma=1e-05, score=0.424, total=   5.1s\n",
      "[CV] C=1000, gamma=1e-05 .............................................\n",
      "[CV] ................. C=1000, gamma=1e-05, score=0.464, total=   5.0s\n",
      "[CV] C=1000, gamma=1e-05 .............................................\n",
      "[CV] ................. C=1000, gamma=1e-05, score=0.447, total=   5.1s\n",
      "[CV] C=10000, gamma=1 ................................................\n",
      "[CV] .................... C=10000, gamma=1, score=0.941, total=   5.1s\n",
      "[CV] C=10000, gamma=1 ................................................\n",
      "[CV] .................... C=10000, gamma=1, score=0.947, total=   5.1s\n",
      "[CV] C=10000, gamma=1 ................................................\n",
      "[CV] .................... C=10000, gamma=1, score=0.954, total=   5.1s\n",
      "[CV] C=10000, gamma=1 ................................................\n",
      "[CV] .................... C=10000, gamma=1, score=0.921, total=   5.1s\n",
      "[CV] C=10000, gamma=1 ................................................\n",
      "[CV] .................... C=10000, gamma=1, score=0.930, total=   5.1s\n",
      "[CV] C=10000, gamma=0.1 ..............................................\n",
      "[CV] .................. C=10000, gamma=0.1, score=0.954, total=   4.6s\n",
      "[CV] C=10000, gamma=0.1 ..............................................\n",
      "[CV] .................. C=10000, gamma=0.1, score=0.954, total=   4.6s\n",
      "[CV] C=10000, gamma=0.1 ..............................................\n",
      "[CV] .................. C=10000, gamma=0.1, score=0.960, total=   4.6s\n",
      "[CV] C=10000, gamma=0.1 ..............................................\n",
      "[CV] .................. C=10000, gamma=0.1, score=0.940, total=   4.6s\n",
      "[CV] C=10000, gamma=0.1 ..............................................\n",
      "[CV] .................. C=10000, gamma=0.1, score=0.967, total=   4.6s\n",
      "[CV] C=10000, gamma=0.01 .............................................\n",
      "[CV] ................. C=10000, gamma=0.01, score=0.954, total=   4.5s\n",
      "[CV] C=10000, gamma=0.01 .............................................\n",
      "[CV] ................. C=10000, gamma=0.01, score=0.954, total=   4.5s\n",
      "[CV] C=10000, gamma=0.01 .............................................\n",
      "[CV] ................. C=10000, gamma=0.01, score=0.960, total=   4.6s\n",
      "[CV] C=10000, gamma=0.01 .............................................\n",
      "[CV] ................. C=10000, gamma=0.01, score=0.944, total=   4.5s\n",
      "[CV] C=10000, gamma=0.01 .............................................\n",
      "[CV] ................. C=10000, gamma=0.01, score=0.967, total=   5.1s\n",
      "[CV] C=10000, gamma=0.001 ............................................\n",
      "[CV] ................ C=10000, gamma=0.001, score=0.954, total=   4.5s\n",
      "[CV] C=10000, gamma=0.001 ............................................\n",
      "[CV] ................ C=10000, gamma=0.001, score=0.954, total=   4.6s\n",
      "[CV] C=10000, gamma=0.001 ............................................\n",
      "[CV] ................ C=10000, gamma=0.001, score=0.960, total=   4.5s\n",
      "[CV] C=10000, gamma=0.001 ............................................\n",
      "[CV] ................ C=10000, gamma=0.001, score=0.944, total=   4.5s\n",
      "[CV] C=10000, gamma=0.001 ............................................\n",
      "[CV] ................ C=10000, gamma=0.001, score=0.967, total=   4.6s\n",
      "[CV] C=10000, gamma=0.0001 ...........................................\n",
      "[CV] ............... C=10000, gamma=0.0001, score=0.954, total=   4.5s\n",
      "[CV] C=10000, gamma=0.0001 ...........................................\n",
      "[CV] ............... C=10000, gamma=0.0001, score=0.954, total=   4.6s\n",
      "[CV] C=10000, gamma=0.0001 ...........................................\n",
      "[CV] ............... C=10000, gamma=0.0001, score=0.960, total=   4.6s\n",
      "[CV] C=10000, gamma=0.0001 ...........................................\n",
      "[CV] ............... C=10000, gamma=0.0001, score=0.944, total=   4.5s\n",
      "[CV] C=10000, gamma=0.0001 ...........................................\n",
      "[CV] ............... C=10000, gamma=0.0001, score=0.967, total=   4.6s\n",
      "[CV] C=10000, gamma=1e-05 ............................................\n",
      "[CV] ................ C=10000, gamma=1e-05, score=0.848, total=   4.4s\n",
      "[CV] C=10000, gamma=1e-05 ............................................\n"
     ]
    },
    {
     "name": "stdout",
     "output_type": "stream",
     "text": [
      "[CV] ................ C=10000, gamma=1e-05, score=0.858, total=   4.4s\n",
      "[CV] C=10000, gamma=1e-05 ............................................\n",
      "[CV] ................ C=10000, gamma=1e-05, score=0.834, total=   4.5s\n",
      "[CV] C=10000, gamma=1e-05 ............................................\n",
      "[CV] ................ C=10000, gamma=1e-05, score=0.815, total=   4.4s\n",
      "[CV] C=10000, gamma=1e-05 ............................................\n",
      "[CV] ................ C=10000, gamma=1e-05, score=0.785, total=   4.5s\n"
     ]
    },
    {
     "name": "stderr",
     "output_type": "stream",
     "text": [
      "[Parallel(n_jobs=1)]: Done 180 out of 180 | elapsed: 14.6min finished\n"
     ]
    },
    {
     "name": "stdout",
     "output_type": "stream",
     "text": [
      "                        precision    recall  f1-score   support\n",
      "\n",
      "           alt.atheism       0.99      0.96      0.98       165\n",
      "         comp.graphics       0.94      0.96      0.95       189\n",
      "               sci.med       0.97      0.97      0.97       193\n",
      "soc.religion.christian       0.97      0.97      0.97       198\n",
      "\n",
      "              accuracy                           0.97       745\n",
      "             macro avg       0.97      0.97      0.97       745\n",
      "          weighted avg       0.97      0.97      0.97       745\n",
      "\n"
     ]
    }
   ],
   "source": [
    "#lets break this code\n",
    "\n",
    "parameters = {\n",
    "      'tfidf__use_idf': (True, False)\n",
    " }\n",
    "    \n",
    "gap = GridSearchCV(pipe, parameters, cv=5, n_jobs=-1)\n",
    "gap.fit(X_train,y_train)\n",
    "\n",
    "predd = gap.predict(X_test)\n",
    "print(classification_report(y_test,predd))"
   ]
  },
  {
   "cell_type": "code",
   "execution_count": 126,
   "metadata": {},
   "outputs": [
    {
     "data": {
      "text/plain": [
       "True"
      ]
     },
     "execution_count": 126,
     "metadata": {},
     "output_type": "execute_result"
    }
   ],
   "source": [
    "#the halff of it"
   ]
  },
  {
   "cell_type": "code",
   "execution_count": 144,
   "metadata": {},
   "outputs": [
    {
     "data": {
      "text/plain": [
       "array(['soc.religion.christian'], dtype=object)"
      ]
     },
     "execution_count": 144,
     "metadata": {},
     "output_type": "execute_result"
    }
   ],
   "source": [
    "gap.predict(['God is good'])"
   ]
  },
  {
   "cell_type": "code",
   "execution_count": null,
   "metadata": {},
   "outputs": [],
   "source": []
  }
 ],
 "metadata": {
  "kernelspec": {
   "display_name": "Python 3",
   "language": "python",
   "name": "python3"
  },
  "language_info": {
   "codemirror_mode": {
    "name": "ipython",
    "version": 3
   },
   "file_extension": ".py",
   "mimetype": "text/x-python",
   "name": "python",
   "nbconvert_exporter": "python",
   "pygments_lexer": "ipython3",
   "version": "3.8.3"
  }
 },
 "nbformat": 4,
 "nbformat_minor": 4
}
